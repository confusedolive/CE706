{
  "nbformat": 4,
  "nbformat_minor": 0,
  "metadata": {
    "colab": {
      "name": "my_recommender.ipynb",
      "provenance": [],
      "mount_file_id": "1Y2RlzEU2N-kyJKyBDZaPpY2yiRc_SPNP",
      "authorship_tag": "ABX9TyPYTyVnTkT/xKQdiWdF74ua",
      "include_colab_link": true
    },
    "kernelspec": {
      "name": "python3",
      "display_name": "Python 3"
    }
  },
  "cells": [
    {
      "cell_type": "markdown",
      "metadata": {
        "id": "view-in-github",
        "colab_type": "text"
      },
      "source": [
        "<a href=\"https://colab.research.google.com/github/confusedolive/CE706/blob/master/lab04/my_recommender.ipynb\" target=\"_parent\"><img src=\"https://colab.research.google.com/assets/colab-badge.svg\" alt=\"Open In Colab\"/></a>"
      ]
    },
    {
      "cell_type": "code",
      "metadata": {
        "id": "hJTDTtolA9-X"
      },
      "source": [
        "import pandas as pd\r\n",
        "import numpy as np\r\n",
        "np.set_printoptions(precision=3)"
      ],
      "execution_count": 5,
      "outputs": []
    },
    {
      "cell_type": "code",
      "metadata": {
        "colab": {
          "base_uri": "https://localhost:8080/"
        },
        "id": "koSi5CkuBwN_",
        "outputId": "d6844173-6f92-4b2c-88a8-655df41cdbb5"
      },
      "source": [
        "jester_data = pd.read_csv(r'https://raw.githubusercontent.com/albanda/CE888/master/lab4-recommender/jester-data-1.csv', na_values=99)\r\n",
        "jester_df = jester_data.copy()\r\n",
        "\r\n",
        "'''number of users is 24983 , 100 jokes , values to be treated as\r\n",
        "nans are 99, column 74 to be dropped as its the amount of jokes rated by user'''\r\n",
        "\r\n",
        "#drop column which contains number of jokes rated by user\r\n",
        "jester_df.drop(labels='74',inplace=True, axis=1)\r\n",
        "print(jester_df)\r\n",
        "\r\n",
        "#best and worst rated jokes\r\n",
        "best_rating_joke = jester_df.mean().idxmax()\r\n",
        "worst_rating_joke = jester_df.mean().idxmin()\r\n",
        "\r\n",
        "print(jester_df.iloc[12761, 37])"
      ],
      "execution_count": 71,
      "outputs": [
        {
          "output_type": "stream",
          "text": [
            "       -7.82  8.79  -9.66  -8.16  -7.52  ...  99.22  -5.63  99.23  99.24  99.25\n",
            "0       4.08 -0.29   6.36   4.37  -2.38  ...  -2.14   3.06   0.34  -4.32   1.07\n",
            "1        NaN   NaN    NaN    NaN   9.03  ...    NaN    NaN    NaN    NaN    NaN\n",
            "2        NaN  8.35    NaN    NaN   1.80  ...    NaN    NaN    NaN    NaN    NaN\n",
            "3       8.50  4.61  -4.17  -5.39   1.36  ...   1.55   3.11   6.55   1.80   1.60\n",
            "4      -6.17 -3.54   0.44  -8.50  -7.09  ...  -3.35   0.05  -9.08  -5.05  -3.45\n",
            "...      ...   ...    ...    ...    ...  ...    ...    ...    ...    ...    ...\n",
            "24977   0.44  7.43   9.08   2.33   3.20  ...   9.03   6.55   8.69   8.79   7.43\n",
            "24978   9.13 -8.16   8.59   9.08   0.87  ...  -8.20  -7.23  -8.59   9.13   8.45\n",
            "24979    NaN   NaN    NaN    NaN  -7.77  ...    NaN    NaN    NaN    NaN    NaN\n",
            "24980    NaN   NaN    NaN    NaN  -9.71  ...    NaN    NaN    NaN    NaN    NaN\n",
            "24981   2.43  2.67  -3.98   4.27  -2.28  ...    NaN    NaN    NaN    NaN    NaN\n",
            "\n",
            "[24982 rows x 100 columns]\n",
            "-5.97\n"
          ],
          "name": "stdout"
        }
      ]
    },
    {
      "cell_type": "code",
      "metadata": {
        "colab": {
          "base_uri": "https://localhost:8080/"
        },
        "id": "e878V6isZJQF",
        "outputId": "ada077fe-a5f5-4168-f793-3901b627cb44"
      },
      "source": [
        "#Helper function\r\n",
        "''' Label 10% of the dataset cells that are not Nans as 99, validation set\r\n",
        "Keep actual values of the cells so you can use them later'''\r\n",
        "\r\n",
        "arr = jester_df.values\r\n",
        "rated = np.where(~np.isnan(arr))\r\n",
        "\r\n",
        "\r\n",
        "def replace(orig, percentage=0.1):\r\n",
        "  \"\"\"\r\n",
        "  Replaces 'percentage'% of the original values in 'orig' with 99's\r\n",
        "  :param orig: original data array\r\n",
        "  :param percentage: percentage of values to replace (0<percentage<1)\r\n",
        "  \"\"\"\r\n",
        "  new_data = orig.copy()\r\n",
        "  rated = np.where(~np.isnan(arr))\r\n",
        "  n_rated = len(rated[0])\r\n",
        "  idx = np.random.choice(n_rated, size=int(percentage*n_rated), replace=False)\r\n",
        "  new_data[rated[0][idx], rated[1][idx]] = 99\r\n",
        "  \r\n",
        "  return new_data, (rated[0][idx], rated[1][idx])\r\n",
        "\r\n",
        "\r\n",
        "new_arr, idx = replace(arr)\r\n",
        "print(new_arr)\r\n",
        "print(rated)"
      ],
      "execution_count": 7,
      "outputs": [
        {
          "output_type": "stream",
          "text": [
            "[[ 4.08 -0.29  6.36 ...  0.34 -4.32  1.07]\n",
            " [  nan   nan   nan ...   nan   nan   nan]\n",
            " [  nan  8.35   nan ...   nan   nan   nan]\n",
            " ...\n",
            " [  nan   nan   nan ...   nan   nan   nan]\n",
            " [  nan   nan   nan ...   nan   nan   nan]\n",
            " [ 2.43 99.   -3.98 ...   nan   nan   nan]]\n",
            "(array([    0,     0,     0, ..., 24981, 24981, 24981]), array([ 0,  1,  2, ..., 69, 70, 86]))\n"
          ],
          "name": "stdout"
        }
      ]
    },
    {
      "cell_type": "code",
      "metadata": {
        "colab": {
          "base_uri": "https://localhost:8080/"
        },
        "id": "rlimEgw8eF4T",
        "outputId": "cf16da95-ebae-4b2f-c5e4-fd3b3e199b18"
      },
      "source": [
        "\r\n",
        "user_ratings = new_arr\r\n",
        "arr = jester_df.values\r\n",
        "\r\n",
        "latent_user_preferences = np.random.random((user_ratings.shape[0], 5))\r\n",
        "latent_item_features = np.random.random((user_ratings.shape[1], 5))\r\n",
        "\r\n",
        "\r\n",
        "def predict_rating(user_id, item_id):\r\n",
        "    \"\"\" Predict a rating given a user_id and an item_id.\r\n",
        "    \"\"\"\r\n",
        "    user_preference = latent_user_preferences[user_id]\r\n",
        "    item_preference = latent_item_features[item_id]\r\n",
        "    return user_preference.dot(item_preference)\r\n",
        "\r\n",
        "\r\n",
        "def train(user_id, item_id, rating, alpha=0.0004):\r\n",
        "    #print(item_id)\r\n",
        "    predicted_rating = predict_rating(user_id, item_id)\r\n",
        "    err =  predicted_rating - rating\r\n",
        "    #print(err)\r\n",
        "    user_pref_values = latent_user_preferences[user_id]\r\n",
        "    latent_user_preferences[user_id] -= alpha * err * latent_item_features[item_id]\r\n",
        "    latent_item_features[item_id] -= alpha * err * user_pref_values\r\n",
        "    return err\r\n",
        "    \r\n",
        "\r\n",
        "def sgd(iterations):\r\n",
        "    \"\"\" Iterate over all users and all items and train for \r\n",
        "        a certain number of iterations\r\n",
        "    \"\"\"\r\n",
        "    mse_history = []\r\n",
        "    for iteration in range(iterations):\r\n",
        "        error = []\r\n",
        "        for user_id in range(latent_user_preferences.shape[0]):\r\n",
        "            for item_id in range(latent_item_features.shape[0]):\r\n",
        "                rating = arr[user_id, item_id]\r\n",
        "                if not np.isnan(rating):\r\n",
        "                    err = train(user_id, item_id, rating)\r\n",
        "                    error.append(err)\r\n",
        "        mse = (np.array(error) ** 2).mean()   \r\n",
        "        #if (iteration % 10000) == 0:\r\n",
        "        print('Iteration %d/%d:\\tMSE=%.6f' % (iteration, iterations, mse))\r\n",
        "        mse_history.append(mse)\r\n",
        "    return mse_history\r\n",
        "\r\n",
        "\r\n",
        "# values = [zip(user_ratings[i], predictions[i]) for i in range(predictions.shape[0])]\r\n",
        "# comparison_data = pd.DataFrame(values)\r\n",
        "# print(comparison_data)\r\n",
        "sgd(10)\r\n"
      ],
      "execution_count": 9,
      "outputs": [
        {
          "output_type": "stream",
          "text": [
            "Iteration 0/10:\tMSE=25.026114\n",
            "Iteration 1/10:\tMSE=24.498123\n",
            "Iteration 2/10:\tMSE=24.070436\n",
            "Iteration 3/10:\tMSE=23.575935\n",
            "Iteration 4/10:\tMSE=22.801752\n",
            "Iteration 5/10:\tMSE=21.263625\n",
            "Iteration 6/10:\tMSE=19.309714\n",
            "Iteration 7/10:\tMSE=18.200498\n",
            "Iteration 8/10:\tMSE=17.791976\n",
            "Iteration 9/10:\tMSE=17.606034\n"
          ],
          "name": "stdout"
        },
        {
          "output_type": "execute_result",
          "data": {
            "text/plain": [
              "[25.02611432096978,\n",
              " 24.49812349570876,\n",
              " 24.07043564366498,\n",
              " 23.575935492205026,\n",
              " 22.80175151666691,\n",
              " 21.263624988162235,\n",
              " 19.309713538913773,\n",
              " 18.200498375671053,\n",
              " 17.791975546003982,\n",
              " 17.606034354655712]"
            ]
          },
          "metadata": {
            "tags": []
          },
          "execution_count": 9
        }
      ]
    },
    {
      "cell_type": "code",
      "metadata": {
        "colab": {
          "base_uri": "https://localhost:8080/"
        },
        "id": "bU7hoC_T2nNo",
        "outputId": "677270b1-fa2d-4a11-bc80-0a41b430e0e2"
      },
      "source": [
        "movies_items = pd.read_excel('movies_latent_factors.xlsx',sheet_name = 'Items', index_col='Movie ID')\r\n",
        "movie_users = pd.read_excel('movies_latent_factors.xlsx', sheet_name = 'Users', index_col='User')\r\n",
        "\r\n",
        "#print(movies_items.loc[movies_items['Factor2'].idxmin()])\r\n",
        "#print(movies_items.loc[1422])\r\n",
        "\r\n",
        "user_rating = movie_users.loc[174].values\r\n",
        "movie_rating = movies_items.loc[153].values[1:]\r\n",
        "print(user_rating.dot(movie_rating))\r\n",
        "\r\n",
        "val = movie_users.loc[1882].values\r\n",
        "test = {}\r\n",
        "for x in movies_items.values:\r\n",
        "  test[x[0]] = val.dot(x[1:])\r\n",
        "\r\n",
        "sort_dict= dict(sorted(test.items(), key=lambda item: item[1])) \r\n",
        "\r\n",
        "print(sort_dict)"
      ],
      "execution_count": 82,
      "outputs": [
        {
          "output_type": "stream",
          "text": [
            "-0.4653923887787672\n",
            "{'Dumb & Dumber (1994)': -0.6473393628703262, 'The Rock (1996)': -0.5110025228216027, 'Mrs. Doubtfire (1993)': -0.5067425605778044, 'Braveheart (1995)': -0.4788640386410249, 'True Lies (1994)': -0.4456564758621034, 'Meet the Parents (2000)': -0.4334000849118009, 'Ace Ventura: Pet Detective (1994)': -0.43173927595230915, 'The Mask (1994)': -0.36924586262948295, 'The Patriot (2000)': -0.36526434595714413, 'Die Hard: With a Vengeance (1995)': -0.3633980867288325, 'Clear and Present Danger (1994)': -0.3184852589884998, 'Twister (1996)': -0.3127957958848003, 'Speed (1994)': -0.30971542770450006, 'The Fugitive (1993)': -0.3001258244419097, 'Dances with Wolves (1990)': -0.2843621758733564, 'Stargate (1994)': -0.26272690097455115, 'Batman Forever (1995)': -0.25915706367369157, 'Erin Brockovich (2000)': -0.24027640537278822, 'Forrest Gump (1994)': -0.21208019319628085, 'Cast Away (2000)': -0.2064962763166341, 'Apollo 13 (1995)': -0.20078137169468904, \"Charlie's Angels (2000)\": -0.19577414719186687, 'Raiders of the Lost Ark (Indiana Jones and the Raiders of the Lost Ark) (1981)': -0.18372964862939653, 'Spider-Man 2 (2004)': -0.17430750234922834, 'Unbreakable (2000)': -0.17236280935607728, 'Batman (1989)': -0.1566867723956766, 'Almost Famous (2000)': -0.14936765935828666, 'Back to the Future (1985)': -0.14860447504878796, 'Spider-Man (2002)': -0.1390982574379579, 'The Lord of the Rings: The Two Towers (2002)': -0.11618152643939325, 'Pretty Woman (1990)': -0.11615252960004732, 'High Fidelity (2000)': -0.11075611755043102, 'X-Men (2000)': -0.10560556795709176, 'X2: X-Men United (2003)': -0.1040619343776369, 'Saving Private Ryan (1998)': -0.10012990134223546, 'Chicken Run (2000)': -0.09553411099680198, 'The Lord of the Rings: The Fellowship of the Ring (2001)': -0.09469973350853758, 'Kill Bill: Vol. 2 (2004)': -0.08844732954494726, 'The Lord of the Rings: The Return of the King (2003)': -0.08772081429855115, 'Kill Bill: Vol. 1 (2003)': -0.08770210457482627, 'Snatch (2000)': -0.07796000808794652, 'The Sixth Sense (1999)': -0.07733076681366793, 'Traffic (2000)': -0.07312817727666109, 'Gladiator (2000)': -0.06495605495719368, 'E.T. the Extra-Terrestrial (1982)': -0.06256300953177243, 'O Brother Where Art Thou? (2000)': -0.04301908257147827, 'Sin City (2005)': -0.040306552710569044, 'Terminator 2: Judgment Day (1991)': -0.03294358925157963, 'Seven (a.k.a. Se7en) (1995)': -0.025512604832415815, \"Schindler's List (1993)\": -0.02147812710689893, 'The Shawshank Redemption (1994)': -0.014943684392227086, 'Men in Black (a.k.a. MIB) (1997)': 0.007500312974824962, 'Donnie Darko (2001)': 0.025536511689175, 'Catch Me If You Can (2002)': 0.03237860860769893, 'Shrek 2 (2004)': 0.03879176489465021, 'Shrek (2001)': 0.048561845209955184, 'The Silence of the Lambs (1991)': 0.0540556956865183, 'Fargo (1996)': 0.05509473047792409, 'Independence Day (a.k.a. ID4) (1996)': 0.055757622508651045, 'Twelve Monkeys (a.k.a. 12 Monkeys) (1995)': 0.060758974216943415, 'The Departed (2006)': 0.07348033081037718, 'Jurassic Park (1993)': 0.08721080534367101, 'Star Wars: Episode II - Attack of the Clones (2002)': 0.0934110611366944, 'Beauty and the Beast (1991)': 0.0980981280789949, 'Requiem for a Dream (2000)': 0.10450088850963979, 'Harry Potter and the Chamber of Secrets (2002)': 0.1057598132633586, 'Aladdin (1992)': 0.11540024117829568, \"Harry Potter and the Sorcerer's Stone (a.k.a. Harry Potter and the Philosopher's Stone) (2001)\": 0.11640075875132794, 'Minority Report (2002)': 0.12225349676423247, 'The Usual Suspects (1995)': 0.13186196432415445, 'Mission: Impossible II (2000)': 0.1339414289213391, 'V for Vendetta (2006)': 0.13478093882482084, 'Mission: Impossible (1996)': 0.14120252249387616, 'The Bourne Supremacy (2004)': 0.1625847849903844, 'The Bourne Identity (2002)': 0.1639382785348122, 'A Beautiful Mind (2001)': 0.17150527223441894, 'Pulp Fiction (1994)': 0.19220006364702594, 'Star Wars: Episode VI - Return of the Jedi (1983)': 0.1951864159631162, 'Star Wars: Episode IV - A New Hope (1977)': 0.22028394924098077, 'Crouching Tiger Hidden Dragon (Wo hu cang long) (2000)': 0.227427966121373, 'The Incredibles (2004)': 0.2307964325747671, 'Monsters Inc. (2001)': 0.23296248210266732, 'Pirates of the Caribbean: The Curse of the Black Pearl (2003)': 0.2495055238889634, 'Eternal Sunshine of the Spotless Mind (2004)': 0.2574782597927359, 'Star Wars: Episode V - The Empire Strikes Back (1980)': 0.26164594524344376, \"Ocean's Eleven (2001)\": 0.26777443235213993, 'Lost in Translation (2003)': 0.2701128631036385, 'The Lion King (1994)': 0.2781176105541958, 'Toy Story (1995)': 0.2812262169879425, 'The Godfather (1972)': 0.29953006084518663, 'Amelie (2001)': 0.30602269824923206, 'American Beauty (1999)': 0.31111996816916754, 'Batman Begins (2005)': 0.311552324734672, 'Finding Nemo (2003)': 0.36629253945638973, 'Memento (2000)': 0.3665920298352883, 'Fight Club (1999)': 0.40188764436484103, 'The Dark Knight (2008)': 0.453408060030804, 'Titanic (1997)': 0.6090407190264948, 'The Matrix (1999)': 0.7258766879431395, 'The Matrix Reloaded (2003)': 0.7699122359093599}\n"
          ],
          "name": "stdout"
        }
      ]
    }
  ]
}